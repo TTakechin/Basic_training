{
 "cells": [
  {
   "cell_type": "markdown",
   "metadata": {},
   "source": [
    "### 演習問題\n",
    "\n",
    "---\n",
    "\n",
    "あなたは今ゲームを作成している。プレーヤーの持ち物リストをモデル化するデータ構造は、アイテムの名前を表す文字列をキーとし、所有するアイテム数を表す整数値を値とした辞書として表現します。\n",
    "\n",
    "持ち物リストを引数とし、次の様に表示する関数```display_inventory(inventory)```を書くことを考える。以下の問に答えなさい。\n",
    "\n",
    "```\n",
    "持ち物リスト：\n",
    "矢　２\n",
    "金貨　４２\n",
    "ロープ　１\n",
    "たいまつ　６\n",
    "手裏剣　１\n",
    "\n",
    "アイテム総数：５２\n",
    "```"
   ]
  },
  {
   "cell_type": "markdown",
   "metadata": {},
   "source": [
    "---\n",
    "\n",
    "Q.1：\n",
    "\n",
    "持ち物リストを辞書形式で表現し、```inventory```という変数に入れなさい。ここで、keyは持ち物としなさい。"
   ]
  },
  {
   "cell_type": "code",
   "execution_count": null,
   "metadata": {},
   "outputs": [],
   "source": []
  },
  {
   "cell_type": "markdown",
   "metadata": {},
   "source": [
    "---\n",
    "\n",
    "Q.2：\n",
    "\n",
    "```inventory.keys()```が持ち物をリスト化して表すことができることを確認しなさい。"
   ]
  },
  {
   "cell_type": "code",
   "execution_count": null,
   "metadata": {},
   "outputs": [],
   "source": []
  },
  {
   "cell_type": "markdown",
   "metadata": {},
   "source": [
    "---\n",
    "\n",
    "Q.3:\n",
    "\n",
    "```inventory```の持ち物に対して、数量に出力するプログラムを作成しなさい。ここで、表現にはfor文を使うこと。"
   ]
  },
  {
   "cell_type": "code",
   "execution_count": null,
   "metadata": {},
   "outputs": [],
   "source": []
  },
  {
   "cell_type": "markdown",
   "metadata": {},
   "source": [
    "---\n",
    "\n",
    "Q.4:\n",
    "\n",
    "```inventory```の値を足し算して62になるプログラムを作成しなさい。"
   ]
  },
  {
   "cell_type": "code",
   "execution_count": null,
   "metadata": {},
   "outputs": [],
   "source": []
  },
  {
   "cell_type": "markdown",
   "metadata": {},
   "source": [
    "---\n",
    "\n",
    "Q.5：\n",
    "\n",
    "```inventory```を入力したときに下記のような出力になる```display_inventory(inventory)```を作成しなさい。\n",
    "\n",
    "```\n",
    "持ち物リスト：\n",
    "矢　２\n",
    "金貨　４２\n",
    "ロープ　１\n",
    "たいまつ　６\n",
    "手裏剣　１\n",
    "\n",
    "アイテム総数：６２\n",
    "```"
   ]
  },
  {
   "cell_type": "code",
   "execution_count": null,
   "metadata": {},
   "outputs": [],
   "source": []
  }
 ],
 "metadata": {
  "kernelspec": {
   "display_name": "Python 3",
   "language": "python",
   "name": "python3"
  },
  "language_info": {
   "codemirror_mode": {
    "name": "ipython",
    "version": 3
   },
   "file_extension": ".py",
   "mimetype": "text/x-python",
   "name": "python",
   "nbconvert_exporter": "python",
   "pygments_lexer": "ipython3",
   "version": "3.8.8"
  }
 },
 "nbformat": 4,
 "nbformat_minor": 4
}
